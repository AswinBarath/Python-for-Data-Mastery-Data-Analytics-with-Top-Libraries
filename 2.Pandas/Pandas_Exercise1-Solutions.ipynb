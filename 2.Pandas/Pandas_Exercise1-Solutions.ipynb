{
 "cells": [
  {
   "cell_type": "code",
   "execution_count": null,
   "metadata": {},
   "outputs": [],
   "source": [
    "# import pandas and numpy libraries"
   ]
  },
  {
   "cell_type": "code",
   "execution_count": 1,
   "metadata": {},
   "outputs": [],
   "source": [
    "import pandas as pd\n",
    "import numpy as np"
   ]
  },
  {
   "cell_type": "code",
   "execution_count": null,
   "metadata": {},
   "outputs": [],
   "source": [
    "# 1) Create a series 'val_series' with using the following 'values' array:\n",
    "# values = [2, 5, 3, 10]"
   ]
  },
  {
   "cell_type": "code",
   "execution_count": 2,
   "metadata": {},
   "outputs": [],
   "source": [
    "values = [2, 5, 3, 10]"
   ]
  },
  {
   "cell_type": "code",
   "execution_count": 3,
   "metadata": {},
   "outputs": [
    {
     "data": {
      "text/plain": [
       "0     2\n",
       "1     5\n",
       "2     3\n",
       "3    10\n",
       "dtype: int64"
      ]
     },
     "execution_count": 3,
     "metadata": {},
     "output_type": "execute_result"
    }
   ],
   "source": [
    "val_series = pd.Series(values)\n",
    "val_series"
   ]
  },
  {
   "cell_type": "code",
   "execution_count": null,
   "metadata": {},
   "outputs": [],
   "source": [
    "# 2-a) Create a dataframe 'rand_df' with 5 rows and 3 columns with values from the random normal distribution\n",
    "# 2-b) Read 4th row\n",
    "# 2-c) Read 2nd column"
   ]
  },
  {
   "cell_type": "code",
   "execution_count": 4,
   "metadata": {},
   "outputs": [
    {
     "data": {
      "text/html": [
       "<div>\n",
       "<style scoped>\n",
       "    .dataframe tbody tr th:only-of-type {\n",
       "        vertical-align: middle;\n",
       "    }\n",
       "\n",
       "    .dataframe tbody tr th {\n",
       "        vertical-align: top;\n",
       "    }\n",
       "\n",
       "    .dataframe thead th {\n",
       "        text-align: right;\n",
       "    }\n",
       "</style>\n",
       "<table border=\"1\" class=\"dataframe\">\n",
       "  <thead>\n",
       "    <tr style=\"text-align: right;\">\n",
       "      <th></th>\n",
       "      <th>0</th>\n",
       "      <th>1</th>\n",
       "      <th>2</th>\n",
       "    </tr>\n",
       "  </thead>\n",
       "  <tbody>\n",
       "    <tr>\n",
       "      <th>0</th>\n",
       "      <td>0.138791</td>\n",
       "      <td>1.082343</td>\n",
       "      <td>0.181884</td>\n",
       "    </tr>\n",
       "    <tr>\n",
       "      <th>1</th>\n",
       "      <td>0.455087</td>\n",
       "      <td>-0.192007</td>\n",
       "      <td>1.967696</td>\n",
       "    </tr>\n",
       "    <tr>\n",
       "      <th>2</th>\n",
       "      <td>0.146665</td>\n",
       "      <td>0.647685</td>\n",
       "      <td>1.907599</td>\n",
       "    </tr>\n",
       "    <tr>\n",
       "      <th>3</th>\n",
       "      <td>-1.282569</td>\n",
       "      <td>0.210522</td>\n",
       "      <td>-0.494378</td>\n",
       "    </tr>\n",
       "    <tr>\n",
       "      <th>4</th>\n",
       "      <td>-0.891239</td>\n",
       "      <td>-0.670699</td>\n",
       "      <td>-1.659537</td>\n",
       "    </tr>\n",
       "  </tbody>\n",
       "</table>\n",
       "</div>"
      ],
      "text/plain": [
       "          0         1         2\n",
       "0  0.138791  1.082343  0.181884\n",
       "1  0.455087 -0.192007  1.967696\n",
       "2  0.146665  0.647685  1.907599\n",
       "3 -1.282569  0.210522 -0.494378\n",
       "4 -0.891239 -0.670699 -1.659537"
      ]
     },
     "execution_count": 4,
     "metadata": {},
     "output_type": "execute_result"
    }
   ],
   "source": [
    "rand_df = pd.DataFrame(np.random.randn(5,3))\n",
    "rand_df"
   ]
  },
  {
   "cell_type": "code",
   "execution_count": 5,
   "metadata": {},
   "outputs": [
    {
     "data": {
      "text/plain": [
       "0   -1.282569\n",
       "1    0.210522\n",
       "2   -0.494378\n",
       "Name: 3, dtype: float64"
      ]
     },
     "execution_count": 5,
     "metadata": {},
     "output_type": "execute_result"
    }
   ],
   "source": [
    "rand_df.iloc[3]"
   ]
  },
  {
   "cell_type": "code",
   "execution_count": 6,
   "metadata": {},
   "outputs": [
    {
     "data": {
      "text/plain": [
       "0    1.082343\n",
       "1   -0.192007\n",
       "2    0.647685\n",
       "3    0.210522\n",
       "4   -0.670699\n",
       "Name: 1, dtype: float64"
      ]
     },
     "execution_count": 6,
     "metadata": {},
     "output_type": "execute_result"
    }
   ],
   "source": [
    "rand_df.iloc[:,1]"
   ]
  },
  {
   "cell_type": "code",
   "execution_count": null,
   "metadata": {},
   "outputs": [],
   "source": [
    "# 3-a) Create a dataframe 'color_random' using the following statement\n",
    "# color_random = pd.DataFrame(np.random.randn(4,6), ['Red','Blue','Green','Yellow'], ['a','b','c','d','e','f'])\n",
    "# 3-b) Read the value at Blue row and 'd' column\n",
    "# 3-c) Read the values from Green to Yellow and from b to e"
   ]
  },
  {
   "cell_type": "code",
   "execution_count": 7,
   "metadata": {},
   "outputs": [
    {
     "data": {
      "text/html": [
       "<div>\n",
       "<style scoped>\n",
       "    .dataframe tbody tr th:only-of-type {\n",
       "        vertical-align: middle;\n",
       "    }\n",
       "\n",
       "    .dataframe tbody tr th {\n",
       "        vertical-align: top;\n",
       "    }\n",
       "\n",
       "    .dataframe thead th {\n",
       "        text-align: right;\n",
       "    }\n",
       "</style>\n",
       "<table border=\"1\" class=\"dataframe\">\n",
       "  <thead>\n",
       "    <tr style=\"text-align: right;\">\n",
       "      <th></th>\n",
       "      <th>a</th>\n",
       "      <th>b</th>\n",
       "      <th>c</th>\n",
       "      <th>d</th>\n",
       "      <th>e</th>\n",
       "      <th>f</th>\n",
       "    </tr>\n",
       "  </thead>\n",
       "  <tbody>\n",
       "    <tr>\n",
       "      <th>Red</th>\n",
       "      <td>0.730368</td>\n",
       "      <td>0.361170</td>\n",
       "      <td>2.569615</td>\n",
       "      <td>-0.146034</td>\n",
       "      <td>-0.987977</td>\n",
       "      <td>-1.449935</td>\n",
       "    </tr>\n",
       "    <tr>\n",
       "      <th>Blue</th>\n",
       "      <td>-1.494791</td>\n",
       "      <td>0.460236</td>\n",
       "      <td>0.738211</td>\n",
       "      <td>-1.238799</td>\n",
       "      <td>1.922390</td>\n",
       "      <td>0.519518</td>\n",
       "    </tr>\n",
       "    <tr>\n",
       "      <th>Green</th>\n",
       "      <td>0.831678</td>\n",
       "      <td>-1.359926</td>\n",
       "      <td>0.798670</td>\n",
       "      <td>0.218831</td>\n",
       "      <td>1.639270</td>\n",
       "      <td>-0.096424</td>\n",
       "    </tr>\n",
       "    <tr>\n",
       "      <th>Yellow</th>\n",
       "      <td>0.319238</td>\n",
       "      <td>-0.979635</td>\n",
       "      <td>-1.482609</td>\n",
       "      <td>-0.818468</td>\n",
       "      <td>-0.975396</td>\n",
       "      <td>-0.578816</td>\n",
       "    </tr>\n",
       "  </tbody>\n",
       "</table>\n",
       "</div>"
      ],
      "text/plain": [
       "               a         b         c         d         e         f\n",
       "Red     0.730368  0.361170  2.569615 -0.146034 -0.987977 -1.449935\n",
       "Blue   -1.494791  0.460236  0.738211 -1.238799  1.922390  0.519518\n",
       "Green   0.831678 -1.359926  0.798670  0.218831  1.639270 -0.096424\n",
       "Yellow  0.319238 -0.979635 -1.482609 -0.818468 -0.975396 -0.578816"
      ]
     },
     "execution_count": 7,
     "metadata": {},
     "output_type": "execute_result"
    }
   ],
   "source": [
    "color_random = pd.DataFrame(np.random.randn(4,6), ['Red','Blue','Green','Yellow'], ['a','b','c','d','e','f'])\n",
    "color_random"
   ]
  },
  {
   "cell_type": "code",
   "execution_count": 8,
   "metadata": {},
   "outputs": [
    {
     "data": {
      "text/plain": [
       "-1.2387989523553133"
      ]
     },
     "execution_count": 8,
     "metadata": {},
     "output_type": "execute_result"
    }
   ],
   "source": [
    "color_random.loc['Blue','d']"
   ]
  },
  {
   "cell_type": "code",
   "execution_count": 9,
   "metadata": {},
   "outputs": [
    {
     "data": {
      "text/html": [
       "<div>\n",
       "<style scoped>\n",
       "    .dataframe tbody tr th:only-of-type {\n",
       "        vertical-align: middle;\n",
       "    }\n",
       "\n",
       "    .dataframe tbody tr th {\n",
       "        vertical-align: top;\n",
       "    }\n",
       "\n",
       "    .dataframe thead th {\n",
       "        text-align: right;\n",
       "    }\n",
       "</style>\n",
       "<table border=\"1\" class=\"dataframe\">\n",
       "  <thead>\n",
       "    <tr style=\"text-align: right;\">\n",
       "      <th></th>\n",
       "      <th>b</th>\n",
       "      <th>c</th>\n",
       "      <th>d</th>\n",
       "      <th>e</th>\n",
       "    </tr>\n",
       "  </thead>\n",
       "  <tbody>\n",
       "    <tr>\n",
       "      <th>Green</th>\n",
       "      <td>-1.359926</td>\n",
       "      <td>0.798670</td>\n",
       "      <td>0.218831</td>\n",
       "      <td>1.639270</td>\n",
       "    </tr>\n",
       "    <tr>\n",
       "      <th>Yellow</th>\n",
       "      <td>-0.979635</td>\n",
       "      <td>-1.482609</td>\n",
       "      <td>-0.818468</td>\n",
       "      <td>-0.975396</td>\n",
       "    </tr>\n",
       "  </tbody>\n",
       "</table>\n",
       "</div>"
      ],
      "text/plain": [
       "               b         c         d         e\n",
       "Green  -1.359926  0.798670  0.218831  1.639270\n",
       "Yellow -0.979635 -1.482609 -0.818468 -0.975396"
      ]
     },
     "execution_count": 9,
     "metadata": {},
     "output_type": "execute_result"
    }
   ],
   "source": [
    "color_random.loc['Green':'Yellow','b':'e']"
   ]
  },
  {
   "cell_type": "code",
   "execution_count": null,
   "metadata": {},
   "outputs": [],
   "source": [
    "# 4-a) Create a dataframe from the file 'AAPL_data.csv' - provided in course resources\n",
    "# 4-b) show max, min and average volume"
   ]
  },
  {
   "cell_type": "code",
   "execution_count": 10,
   "metadata": {},
   "outputs": [
    {
     "data": {
      "text/html": [
       "<div>\n",
       "<style scoped>\n",
       "    .dataframe tbody tr th:only-of-type {\n",
       "        vertical-align: middle;\n",
       "    }\n",
       "\n",
       "    .dataframe tbody tr th {\n",
       "        vertical-align: top;\n",
       "    }\n",
       "\n",
       "    .dataframe thead th {\n",
       "        text-align: right;\n",
       "    }\n",
       "</style>\n",
       "<table border=\"1\" class=\"dataframe\">\n",
       "  <thead>\n",
       "    <tr style=\"text-align: right;\">\n",
       "      <th></th>\n",
       "      <th>date</th>\n",
       "      <th>open</th>\n",
       "      <th>high</th>\n",
       "      <th>low</th>\n",
       "      <th>close</th>\n",
       "      <th>volume</th>\n",
       "      <th>Name</th>\n",
       "    </tr>\n",
       "  </thead>\n",
       "  <tbody>\n",
       "    <tr>\n",
       "      <th>0</th>\n",
       "      <td>2018-01-02</td>\n",
       "      <td>170.160</td>\n",
       "      <td>172.3000</td>\n",
       "      <td>169.2600</td>\n",
       "      <td>172.26</td>\n",
       "      <td>25555934</td>\n",
       "      <td>AAPL</td>\n",
       "    </tr>\n",
       "    <tr>\n",
       "      <th>1</th>\n",
       "      <td>2018-01-03</td>\n",
       "      <td>172.530</td>\n",
       "      <td>174.5500</td>\n",
       "      <td>171.9600</td>\n",
       "      <td>172.23</td>\n",
       "      <td>29517899</td>\n",
       "      <td>AAPL</td>\n",
       "    </tr>\n",
       "    <tr>\n",
       "      <th>2</th>\n",
       "      <td>2018-01-04</td>\n",
       "      <td>172.540</td>\n",
       "      <td>173.4700</td>\n",
       "      <td>172.0800</td>\n",
       "      <td>173.03</td>\n",
       "      <td>22434597</td>\n",
       "      <td>AAPL</td>\n",
       "    </tr>\n",
       "    <tr>\n",
       "      <th>3</th>\n",
       "      <td>2018-01-05</td>\n",
       "      <td>173.440</td>\n",
       "      <td>175.3700</td>\n",
       "      <td>173.0500</td>\n",
       "      <td>175.00</td>\n",
       "      <td>23660018</td>\n",
       "      <td>AAPL</td>\n",
       "    </tr>\n",
       "    <tr>\n",
       "      <th>4</th>\n",
       "      <td>2018-01-08</td>\n",
       "      <td>174.350</td>\n",
       "      <td>175.6100</td>\n",
       "      <td>173.9300</td>\n",
       "      <td>174.35</td>\n",
       "      <td>20567766</td>\n",
       "      <td>AAPL</td>\n",
       "    </tr>\n",
       "    <tr>\n",
       "      <th>5</th>\n",
       "      <td>2018-01-09</td>\n",
       "      <td>174.550</td>\n",
       "      <td>175.0600</td>\n",
       "      <td>173.4100</td>\n",
       "      <td>174.33</td>\n",
       "      <td>21583997</td>\n",
       "      <td>AAPL</td>\n",
       "    </tr>\n",
       "    <tr>\n",
       "      <th>6</th>\n",
       "      <td>2018-01-10</td>\n",
       "      <td>173.160</td>\n",
       "      <td>174.3000</td>\n",
       "      <td>173.0000</td>\n",
       "      <td>174.29</td>\n",
       "      <td>23959895</td>\n",
       "      <td>AAPL</td>\n",
       "    </tr>\n",
       "    <tr>\n",
       "      <th>7</th>\n",
       "      <td>2018-01-11</td>\n",
       "      <td>174.590</td>\n",
       "      <td>175.4886</td>\n",
       "      <td>174.4900</td>\n",
       "      <td>175.28</td>\n",
       "      <td>18667729</td>\n",
       "      <td>AAPL</td>\n",
       "    </tr>\n",
       "    <tr>\n",
       "      <th>8</th>\n",
       "      <td>2018-01-12</td>\n",
       "      <td>176.180</td>\n",
       "      <td>177.3600</td>\n",
       "      <td>175.6500</td>\n",
       "      <td>177.09</td>\n",
       "      <td>25418080</td>\n",
       "      <td>AAPL</td>\n",
       "    </tr>\n",
       "    <tr>\n",
       "      <th>9</th>\n",
       "      <td>2018-01-16</td>\n",
       "      <td>177.900</td>\n",
       "      <td>179.3900</td>\n",
       "      <td>176.1400</td>\n",
       "      <td>176.19</td>\n",
       "      <td>29565947</td>\n",
       "      <td>AAPL</td>\n",
       "    </tr>\n",
       "    <tr>\n",
       "      <th>10</th>\n",
       "      <td>2018-01-17</td>\n",
       "      <td>176.150</td>\n",
       "      <td>179.2500</td>\n",
       "      <td>175.0700</td>\n",
       "      <td>179.10</td>\n",
       "      <td>34386836</td>\n",
       "      <td>AAPL</td>\n",
       "    </tr>\n",
       "    <tr>\n",
       "      <th>11</th>\n",
       "      <td>2018-01-18</td>\n",
       "      <td>179.370</td>\n",
       "      <td>180.1000</td>\n",
       "      <td>178.2500</td>\n",
       "      <td>179.26</td>\n",
       "      <td>31193352</td>\n",
       "      <td>AAPL</td>\n",
       "    </tr>\n",
       "    <tr>\n",
       "      <th>12</th>\n",
       "      <td>2018-01-19</td>\n",
       "      <td>178.610</td>\n",
       "      <td>179.5800</td>\n",
       "      <td>177.4100</td>\n",
       "      <td>178.46</td>\n",
       "      <td>32425067</td>\n",
       "      <td>AAPL</td>\n",
       "    </tr>\n",
       "    <tr>\n",
       "      <th>13</th>\n",
       "      <td>2018-01-22</td>\n",
       "      <td>177.300</td>\n",
       "      <td>177.7800</td>\n",
       "      <td>176.6016</td>\n",
       "      <td>177.00</td>\n",
       "      <td>27108551</td>\n",
       "      <td>AAPL</td>\n",
       "    </tr>\n",
       "    <tr>\n",
       "      <th>14</th>\n",
       "      <td>2018-01-23</td>\n",
       "      <td>177.300</td>\n",
       "      <td>179.4400</td>\n",
       "      <td>176.8200</td>\n",
       "      <td>177.04</td>\n",
       "      <td>32689146</td>\n",
       "      <td>AAPL</td>\n",
       "    </tr>\n",
       "    <tr>\n",
       "      <th>15</th>\n",
       "      <td>2018-01-24</td>\n",
       "      <td>177.250</td>\n",
       "      <td>177.3000</td>\n",
       "      <td>173.2000</td>\n",
       "      <td>174.22</td>\n",
       "      <td>51105090</td>\n",
       "      <td>AAPL</td>\n",
       "    </tr>\n",
       "    <tr>\n",
       "      <th>16</th>\n",
       "      <td>2018-01-25</td>\n",
       "      <td>174.505</td>\n",
       "      <td>174.9500</td>\n",
       "      <td>170.5300</td>\n",
       "      <td>171.11</td>\n",
       "      <td>41529004</td>\n",
       "      <td>AAPL</td>\n",
       "    </tr>\n",
       "    <tr>\n",
       "      <th>17</th>\n",
       "      <td>2018-01-26</td>\n",
       "      <td>172.000</td>\n",
       "      <td>172.0000</td>\n",
       "      <td>170.0600</td>\n",
       "      <td>171.51</td>\n",
       "      <td>39143011</td>\n",
       "      <td>AAPL</td>\n",
       "    </tr>\n",
       "    <tr>\n",
       "      <th>18</th>\n",
       "      <td>2018-01-29</td>\n",
       "      <td>170.160</td>\n",
       "      <td>170.1600</td>\n",
       "      <td>167.0700</td>\n",
       "      <td>167.96</td>\n",
       "      <td>50640406</td>\n",
       "      <td>AAPL</td>\n",
       "    </tr>\n",
       "    <tr>\n",
       "      <th>19</th>\n",
       "      <td>2018-01-30</td>\n",
       "      <td>165.525</td>\n",
       "      <td>167.3700</td>\n",
       "      <td>164.7000</td>\n",
       "      <td>166.97</td>\n",
       "      <td>46048185</td>\n",
       "      <td>AAPL</td>\n",
       "    </tr>\n",
       "    <tr>\n",
       "      <th>20</th>\n",
       "      <td>2018-01-31</td>\n",
       "      <td>166.870</td>\n",
       "      <td>168.4417</td>\n",
       "      <td>166.5000</td>\n",
       "      <td>167.43</td>\n",
       "      <td>32478930</td>\n",
       "      <td>AAPL</td>\n",
       "    </tr>\n",
       "  </tbody>\n",
       "</table>\n",
       "</div>"
      ],
      "text/plain": [
       "          date     open      high       low   close    volume  Name\n",
       "0   2018-01-02  170.160  172.3000  169.2600  172.26  25555934  AAPL\n",
       "1   2018-01-03  172.530  174.5500  171.9600  172.23  29517899  AAPL\n",
       "2   2018-01-04  172.540  173.4700  172.0800  173.03  22434597  AAPL\n",
       "3   2018-01-05  173.440  175.3700  173.0500  175.00  23660018  AAPL\n",
       "4   2018-01-08  174.350  175.6100  173.9300  174.35  20567766  AAPL\n",
       "5   2018-01-09  174.550  175.0600  173.4100  174.33  21583997  AAPL\n",
       "6   2018-01-10  173.160  174.3000  173.0000  174.29  23959895  AAPL\n",
       "7   2018-01-11  174.590  175.4886  174.4900  175.28  18667729  AAPL\n",
       "8   2018-01-12  176.180  177.3600  175.6500  177.09  25418080  AAPL\n",
       "9   2018-01-16  177.900  179.3900  176.1400  176.19  29565947  AAPL\n",
       "10  2018-01-17  176.150  179.2500  175.0700  179.10  34386836  AAPL\n",
       "11  2018-01-18  179.370  180.1000  178.2500  179.26  31193352  AAPL\n",
       "12  2018-01-19  178.610  179.5800  177.4100  178.46  32425067  AAPL\n",
       "13  2018-01-22  177.300  177.7800  176.6016  177.00  27108551  AAPL\n",
       "14  2018-01-23  177.300  179.4400  176.8200  177.04  32689146  AAPL\n",
       "15  2018-01-24  177.250  177.3000  173.2000  174.22  51105090  AAPL\n",
       "16  2018-01-25  174.505  174.9500  170.5300  171.11  41529004  AAPL\n",
       "17  2018-01-26  172.000  172.0000  170.0600  171.51  39143011  AAPL\n",
       "18  2018-01-29  170.160  170.1600  167.0700  167.96  50640406  AAPL\n",
       "19  2018-01-30  165.525  167.3700  164.7000  166.97  46048185  AAPL\n",
       "20  2018-01-31  166.870  168.4417  166.5000  167.43  32478930  AAPL"
      ]
     },
     "execution_count": 10,
     "metadata": {},
     "output_type": "execute_result"
    }
   ],
   "source": [
    "aapl = pd.read_csv(\"C:\\\\Users\\\\Zain\\\\Downloads\\\\AAPL_data.csv\")\n",
    "aapl"
   ]
  },
  {
   "cell_type": "code",
   "execution_count": 11,
   "metadata": {},
   "outputs": [
    {
     "data": {
      "text/plain": [
       "18667729"
      ]
     },
     "execution_count": 11,
     "metadata": {},
     "output_type": "execute_result"
    }
   ],
   "source": [
    "aapl['volume'].min()"
   ]
  },
  {
   "cell_type": "code",
   "execution_count": 12,
   "metadata": {},
   "outputs": [
    {
     "data": {
      "text/plain": [
       "51105090"
      ]
     },
     "execution_count": 12,
     "metadata": {},
     "output_type": "execute_result"
    }
   ],
   "source": [
    "aapl['volume'].max()"
   ]
  },
  {
   "cell_type": "code",
   "execution_count": 13,
   "metadata": {},
   "outputs": [
    {
     "data": {
      "text/plain": [
       "31413306.666666668"
      ]
     },
     "execution_count": 13,
     "metadata": {},
     "output_type": "execute_result"
    }
   ],
   "source": [
    "aapl['volume'].mean()"
   ]
  },
  {
   "cell_type": "code",
   "execution_count": null,
   "metadata": {},
   "outputs": [],
   "source": []
  }
 ],
 "metadata": {
  "kernelspec": {
   "display_name": "Python 3",
   "language": "python",
   "name": "python3"
  },
  "language_info": {
   "codemirror_mode": {
    "name": "ipython",
    "version": 3
   },
   "file_extension": ".py",
   "mimetype": "text/x-python",
   "name": "python",
   "nbconvert_exporter": "python",
   "pygments_lexer": "ipython3",
   "version": "3.7.6"
  }
 },
 "nbformat": 4,
 "nbformat_minor": 4
}
