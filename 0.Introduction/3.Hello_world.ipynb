{
 "cells": [
  {
   "cell_type": "code",
   "execution_count": 2,
   "id": "f30d5262-5025-4556-9187-89ded9b350a9",
   "metadata": {},
   "outputs": [
    {
     "name": "stdout",
     "output_type": "stream",
     "text": [
      "hello world\n"
     ]
    }
   ],
   "source": [
    "print(\"hello world\")"
   ]
  },
  {
   "cell_type": "code",
   "execution_count": 3,
   "id": "2f79f13f-cfdb-4339-acf6-183519715271",
   "metadata": {},
   "outputs": [
    {
     "name": "stdout",
     "output_type": "stream",
     "text": [
      "my name is Zain\n"
     ]
    }
   ],
   "source": [
    "print(\"my name is Zain\")"
   ]
  },
  {
   "cell_type": "code",
   "execution_count": 4,
   "id": "ab38f556-13d3-43b6-8a18-5420ab190cc7",
   "metadata": {},
   "outputs": [],
   "source": [
    "a = 1 + 3"
   ]
  },
  {
   "cell_type": "code",
   "execution_count": 5,
   "id": "8c84e7bb-e95b-40e1-8764-468197975e6f",
   "metadata": {},
   "outputs": [
    {
     "name": "stdout",
     "output_type": "stream",
     "text": [
      "4\n"
     ]
    }
   ],
   "source": [
    "print(a)"
   ]
  }
 ],
 "metadata": {
  "kernelspec": {
   "display_name": "Python 3 (ipykernel)",
   "language": "python",
   "name": "python3"
  },
  "language_info": {
   "codemirror_mode": {
    "name": "ipython",
    "version": 3
   },
   "file_extension": ".py",
   "mimetype": "text/x-python",
   "name": "python",
   "nbconvert_exporter": "python",
   "pygments_lexer": "ipython3",
   "version": "3.13.5"
  }
 },
 "nbformat": 4,
 "nbformat_minor": 5
}
